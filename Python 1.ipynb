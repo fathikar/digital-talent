{
 "cells": [
  {
   "cell_type": "markdown",
   "metadata": {},
   "source": [
    "# 1.Sintaks Dasar\n",
    "print adalah sebuah sintaks dasar untuk mengeluarkan perintah"
   ]
  },
  {
   "cell_type": "code",
   "execution_count": 1,
   "metadata": {},
   "outputs": [
    {
     "name": "stdout",
     "output_type": "stream",
     "text": [
      "Hello World!\n"
     ]
    }
   ],
   "source": [
    "print(\"Hello World!\")"
   ]
  },
  {
   "cell_type": "code",
   "execution_count": 2,
   "metadata": {},
   "outputs": [
    {
     "name": "stdout",
     "output_type": "stream",
     "text": [
      "5 mempunyai tipe <class 'int'>\n"
     ]
    }
   ],
   "source": [
    "a = 5\n",
    "print(a, \"mempunyai tipe\", type(a))"
   ]
  },
  {
   "cell_type": "code",
   "execution_count": 3,
   "metadata": {},
   "outputs": [
    {
     "name": "stdout",
     "output_type": "stream",
     "text": [
      "2.0 mempunyai tipe <class 'float'>\n"
     ]
    }
   ],
   "source": [
    "a = 2.0\n",
    "print(a, \"mempunyai tipe\", type(a))"
   ]
  },
  {
   "cell_type": "code",
   "execution_count": 4,
   "metadata": {},
   "outputs": [
    {
     "name": "stdout",
     "output_type": "stream",
     "text": [
      "False mempunyai tipe <class 'bool'>\n"
     ]
    }
   ],
   "source": [
    "a = 5>6\n",
    "print(a, \"mempunyai tipe\", type(a))"
   ]
  },
  {
   "cell_type": "code",
   "execution_count": 5,
   "metadata": {},
   "outputs": [
    {
     "name": "stdout",
     "output_type": "stream",
     "text": [
      "Ini adalah sebuah string mempunyai tipe <class 'str'>\n"
     ]
    }
   ],
   "source": [
    "a = \"Ini adalah sebuah string\"\n",
    "print(a, \"mempunyai tipe\", type(a))"
   ]
  },
  {
   "cell_type": "code",
   "execution_count": 11,
   "metadata": {},
   "outputs": [
    {
     "name": "stdout",
     "output_type": "stream",
     "text": [
      "5\n",
      "4\n",
      "9\n",
      "12\n",
      "23.0\n"
     ]
    }
   ],
   "source": [
    "a = 5\n",
    "b = 4\n",
    "c = a+b\n",
    "d = 3+c\n",
    "print(a)\n",
    "print(b)\n",
    "print(c)\n",
    "print(d)\n",
    "print(a+b*(a+b)/2)"
   ]
  },
  {
   "cell_type": "code",
   "execution_count": 13,
   "metadata": {},
   "outputs": [
    {
     "name": "stdout",
     "output_type": "stream",
     "text": [
      "Harga Buku =  100000\n",
      "Diskon =  40000.0\n",
      "Harga Diskon =  60000.0\n",
      "Total Biaya salinan pertama =  69000.0\n",
      "Total Biaya salinan tambahan =  3717000.0\n",
      "Total Biaya 60 Eksemplar =  3786000.0\n"
     ]
    }
   ],
   "source": [
    "harga_buku = 100000\n",
    "diskon = 0.40\n",
    "ongkir_pertama = 9000\n",
    "ongkir_tambahan = 3000\n",
    "harga_diskon = (100000*0.40)\n",
    "j = 100000-e\n",
    "f = j+9000\n",
    "g = (j+3000)*59\n",
    "k = f+g\n",
    "print('Harga Buku = ', harga_buku)\n",
    "print('Diskon = ', diskon)\n",
    "print('Harga Diskon = ', harga_diskon)\n",
    "print('Total Biaya salinan pertama = ', f)\n",
    "print('Total Biaya salinan tambahan = ', g)\n",
    "print('Total Biaya 60 Eksemplar = ', k)\n",
    "\n",
    "\n"
   ]
  },
  {
   "cell_type": "code",
   "execution_count": 14,
   "metadata": {},
   "outputs": [
    {
     "name": "stdout",
     "output_type": "stream",
     "text": [
      "x > y  is False\n",
      "x < y  is True\n",
      "x == y is False\n",
      "x != y is True\n",
      "x >= y is False\n",
      "x <= y is True\n"
     ]
    }
   ],
   "source": [
    "x = 10\n",
    "y = 12\n",
    "\n",
    "print('x > y  is',x>y)\n",
    "\n",
    "print('x < y  is',x<y)\n",
    "\n",
    "print('x == y is',x==y)\n",
    "\n",
    "print('x != y is',x!=y)\n",
    "\n",
    "print('x >= y is',x>=y)\n",
    "\n",
    "print('x <= y is',x<=y)"
   ]
  },
  {
   "cell_type": "code",
   "execution_count": 15,
   "metadata": {},
   "outputs": [
    {
     "name": "stdout",
     "output_type": "stream",
     "text": [
      "x and y is False\n",
      "x or y is True\n",
      "not x is False\n"
     ]
    }
   ],
   "source": [
    "x = 5 == 5\n",
    "y = 1 > 2\n",
    "\n",
    "\n",
    "print('x and y is',x and y)\n",
    "\n",
    "print('x or y is',x or y)\n",
    "\n",
    "print('not x is',not x)"
   ]
  },
  {
   "cell_type": "code",
   "execution_count": 19,
   "metadata": {},
   "outputs": [
    {
     "name": "stdout",
     "output_type": "stream",
     "text": [
      "Lulus\n",
      "Selamat\n",
      "Program Selesai\n"
     ]
    }
   ],
   "source": [
    "nilai = 95 # Coba dirubah menjadi 80\n",
    "if nilai>90:\n",
    "    print(\"Lulus\")\n",
    "    print(\"Selamat\")\n",
    "    \n",
    "print(\"Program Selesai\")"
   ]
  },
  {
   "cell_type": "code",
   "execution_count": 22,
   "metadata": {},
   "outputs": [
    {
     "name": "stdout",
     "output_type": "stream",
     "text": [
      "Anda masuk ke waiting list\n",
      "Program Selesai\n"
     ]
    }
   ],
   "source": [
    "nilai = 85 \n",
    "if nilai>90:\n",
    "    print(\"Lulus\")\n",
    "    print(\"Selamat\")\n",
    "elif nilai>80:\n",
    "    print(\"Anda masuk ke waiting list\")\n",
    "else:\n",
    "    print(\"Maaf Anda Belum Berhasil\")\n",
    "    \n",
    "print(\"Program Selesai\")"
   ]
  },
  {
   "cell_type": "code",
   "execution_count": null,
   "metadata": {},
   "outputs": [],
   "source": [
    "weight = 50\n",
    "height = 160\n",
    "BMI = weight\n",
    "if \n"
   ]
  }
 ],
 "metadata": {
  "kernelspec": {
   "display_name": "Python 3",
   "language": "python",
   "name": "python3"
  },
  "language_info": {
   "codemirror_mode": {
    "name": "ipython",
    "version": 3
   },
   "file_extension": ".py",
   "mimetype": "text/x-python",
   "name": "python",
   "nbconvert_exporter": "python",
   "pygments_lexer": "ipython3",
   "version": "3.6.4"
  }
 },
 "nbformat": 4,
 "nbformat_minor": 2
}
