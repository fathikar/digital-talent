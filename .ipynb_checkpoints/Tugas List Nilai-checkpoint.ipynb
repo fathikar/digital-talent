{
 "cells": [
  {
   "cell_type": "code",
   "execution_count": 4,
   "metadata": {},
   "outputs": [
    {
     "name": "stdout",
     "output_type": "stream",
     "text": [
      "[11, 48, 86, 27, 26, 2, 55, 53, 11, 3, 89, 60, 10, 16, 50, 27, 7, 33, 5, 94, 10, 26, 25, 4, 35, 80, 89, 50, 79, 80, 95, 78, 55, 14, 96, 34, 8, 31, 38, 89, 83, 69, 82, 88, 21, 42, 17, 49, 99, 86, 77, 51, 61, 66, 24, 18, 79, 59, 58, 12, 46, 56, 56, 17, 40, 96, 36, 46, 55, 33, 69, 50, 86, 94, 81, 35, 81, 55, 34, 44, 77, 58, 47, 10, 36, 78, 69, 73, 15, 58, 32, 19, 11, 72, 24, 77, 49, 74, 47, 31, 61, 40, 87, 87, 8, 40, 9, 28, 80, 1, 36, 42, 43, 91, 95, 32, 90, 34, 1, 80, 46, 64, 22, 3, 48, 4, 83, 22, 7, 40, 45, 56, 50, 95, 81, 47, 26, 58, 50, 22, 88, 85, 14, 82, 72, 57, 74, 94, 86, 3, 61, 77, 24, 67, 46, 57, 53, 87, 14, 36, 94, 30, 15, 8, 64, 69, 41, 93, 96, 54, 12, 62, 88, 58, 47, 85, 19, 65, 16, 90, 25, 13, 79, 50, 17, 51, 72, 98, 86, 60, 10, 17, 93, 4, 24, 71, 22, 50, 28, 7, 94, 31, 82, 5, 74, 51, 64, 24, 98, 97, 35, 34, 98, 77, 89, 23, 44, 55, 53, 62, 41, 54, 73, 54, 19, 14, 1, 12, 80, 98, 68, 40, 87, 24, 33, 95, 50, 40, 93, 5, 75, 16, 15, 49, 32, 90, 70, 29, 29, 56]\n"
     ]
    }
   ],
   "source": [
    "import random\n",
    "#Generate Random\n",
    "nilaiTugas = []\n",
    "for i in range(250):\n",
    "    nilaiTugas.append(random.randrange(1,100,1))\n",
    "print(nilaiTugas)\n"
   ]
  },
  {
   "cell_type": "code",
   "execution_count": 6,
   "metadata": {},
   "outputs": [
    {
     "name": "stdout",
     "output_type": "stream",
     "text": [
      "[11, 27, 55, 53, 11, 3, 89, 27, 7, 33, 5, 25, 35, 89, 79, 95, 55, 31, 89, 83, 69, 21, 17, 49, 99, 77, 51, 61, 79, 59, 17, 55, 33, 69, 81, 35, 81, 55, 77, 47, 69, 73, 15, 19, 11, 77, 49, 47, 31, 61, 87, 87, 9, 1, 43, 91, 95, 1, 3, 83, 7, 45, 95, 81, 47, 85, 57, 3, 61, 77, 67, 57, 53, 87, 15, 69, 41, 93, 47, 85, 19, 65, 25, 13, 79, 17, 51, 17, 93, 71, 7, 31, 5, 51, 97, 35, 77, 89, 23, 55, 53, 41, 73, 19, 1, 87, 33, 95, 93, 5, 75, 15, 49, 29, 29]\n"
     ]
    }
   ],
   "source": [
    "# 1. Tampilkan Angka Ganjil dari ke 250 nilai tersebut\n",
    "angka_ganjil = []\n",
    "for i in nilaiTugas:\n",
    "    if i%2==1:\n",
    "        angka_ganjil.append(i)\n",
    "print(angka_ganjil)"
   ]
  },
  {
   "cell_type": "code",
   "execution_count": 7,
   "metadata": {},
   "outputs": [
    {
     "name": "stdout",
     "output_type": "stream",
     "text": [
      "[86, 89, 94, 80, 89, 79, 80, 95, 78, 96, 89, 83, 82, 88, 99, 86, 77, 79, 96, 86, 94, 81, 81, 77, 78, 73, 72, 77, 74, 87, 87, 80, 91, 95, 90, 80, 83, 95, 81, 88, 85, 82, 72, 74, 94, 86, 77, 87, 94, 93, 96, 88, 85, 90, 79, 72, 98, 86, 93, 71, 94, 82, 74, 98, 97, 98, 77, 89, 73, 80, 98, 87, 95, 93, 75, 90]\n",
      "Totalnya =  76\n"
     ]
    }
   ],
   "source": [
    "# 2.Tampilkan berapa banyak yang mendapatkan nilai lebih dari 70\n",
    "nilai_lebih70 = []\n",
    "for n in nilaiTugas:\n",
    "    if n > 70:\n",
    "        nilai_lebih70.append(n)\n",
    "print(nilai_lebih70)\n",
    "print('Totalnya = ',len(nilai_lebih70))"
   ]
  },
  {
   "cell_type": "code",
   "execution_count": 14,
   "metadata": {},
   "outputs": [
    {
     "name": "stdout",
     "output_type": "stream",
     "text": [
      "mean =  50.332\n",
      "Standar Deviasi =  28.67036407163328\n"
     ]
    }
   ],
   "source": [
    "# 3. Tampilkan standar deviasi dari sekumpulan nilai tersebut\n",
    "jumlah = 0\n",
    "for n in nilaiTugas:\n",
    "    jumlah = jumlah + n\n",
    "mean = jumlah / len(nilaiTugas)\n",
    "\n",
    "a = 0\n",
    "for n in nilaiTugas:\n",
    "    i = (n - mean)**2\n",
    "    a = a + i\n",
    "    \n",
    "standar_deviasi = ((a/len(nilaiTugas)-1)**0.5)\n",
    "print(\"Standar Deviasi = \", standar_deviasi)  "
   ]
  },
  {
   "cell_type": "code",
   "execution_count": 15,
   "metadata": {},
   "outputs": [
    {
     "name": "stdout",
     "output_type": "stream",
     "text": [
      "Nilai Maximum:  99\n",
      "Nilai Minimum:  1\n"
     ]
    }
   ],
   "source": [
    "# 4. Tampilkan nilai maksimum dan minimum  \n",
    "max = 0\n",
    "min = 1000\n",
    "for x in nilaiTugas:\n",
    "    if x > max:\n",
    "        max = x\n",
    "    if x < min:\n",
    "        min = x\n",
    "print(\"Nilai Maximum: \",max)\n",
    "print(\"Nilai Minimum: \",min)"
   ]
  },
  {
   "cell_type": "code",
   "execution_count": 16,
   "metadata": {},
   "outputs": [
    {
     "name": "stdout",
     "output_type": "stream",
     "text": [
      "Modus =  56\n"
     ]
    }
   ],
   "source": [
    "# 5. Tampilkan modus dari sekumpulan nilai tersebut\n",
    "modus = nilaiTugas[0]\n",
    "jumlah = nilaiTugas.count(modus)\n",
    "for n in nilaiTugas:\n",
    "    jmlh_nilai = nilaiTugas.count(x)\n",
    "    if jmlh_nilai>jumlah:\n",
    "        modus = x\n",
    "        jumlah = jmlh_nilai\n",
    "print('Modus = ', modus)"
   ]
  },
  {
   "cell_type": "code",
   "execution_count": null,
   "metadata": {},
   "outputs": [],
   "source": []
  }
 ],
 "metadata": {
  "kernelspec": {
   "display_name": "Python 3",
   "language": "python",
   "name": "python3"
  },
  "language_info": {
   "codemirror_mode": {
    "name": "ipython",
    "version": 3
   },
   "file_extension": ".py",
   "mimetype": "text/x-python",
   "name": "python",
   "nbconvert_exporter": "python",
   "pygments_lexer": "ipython3",
   "version": "3.6.4"
  }
 },
 "nbformat": 4,
 "nbformat_minor": 2
}
